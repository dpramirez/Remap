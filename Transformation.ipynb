{
 "cells": [
  {
   "cell_type": "code",
   "execution_count": 2,
   "metadata": {},
   "outputs": [],
   "source": [
    "import cv2\n",
    "import numpy as np\n",
    "import yaml"
   ]
  },
  {
   "cell_type": "code",
   "execution_count": 3,
   "metadata": {},
   "outputs": [],
   "source": [
    "frame = cv2.imread(\"frame_0.png\", cv2.IMREAD_COLOR)\n",
    "frame_size = (frame.shape[1], frame.shape[0])\n"
   ]
  },
  {
   "cell_type": "code",
   "execution_count": 4,
   "metadata": {},
   "outputs": [],
   "source": [
    "#Coordinates of quadrangle vertices in the source image.\n",
    "src = np.float32([\n",
    "                [450,230],\n",
    "                [600,312],\n",
    "                [80,312],\n",
    "                [281,230]])\n",
    "\n",
    "#Coordinates of the corresponding quadrangle vertices in the destination image.\n",
    "dst = np.float32([\n",
    "        [450,230],\n",
    "        [450,312],\n",
    "        [281,312],\n",
    "        [281,230]])"
   ]
  },
  {
   "cell_type": "code",
   "execution_count": 5,
   "metadata": {},
   "outputs": [],
   "source": [
    "H = cv2.getPerspectiveTransform(src, dst)\n",
    "warped = cv2.warpPerspective(frame, H, frame_size, flags=cv2.INTER_LINEAR)"
   ]
  },
  {
   "cell_type": "code",
   "execution_count": 6,
   "metadata": {},
   "outputs": [],
   "source": [
    "# create indices of the destination image and linearize them\n",
    "h, w = warped.shape[:2]\n",
    "indy, indx = np.indices((h, w), dtype=np.float32)\n",
    "lin_homg_ind = np.array([indx.ravel(), indy.ravel(), np.ones_like(indx).ravel()])"
   ]
  },
  {
   "cell_type": "code",
   "execution_count": 7,
   "metadata": {},
   "outputs": [],
   "source": [
    "map_ind = H.dot(lin_homg_ind)\n",
    "map_x, map_y = map_ind[:-1]/map_ind[-1]\n",
    "map_x = map_x.reshape(h, w).astype(np.float32) \n",
    "map_y = map_y.reshape(h, w).astype(np.float32)\n",
    "#print (map_x)"
   ]
  },
  {
   "cell_type": "code",
   "execution_count": null,
   "metadata": {},
   "outputs": [],
   "source": [
    "# remap!\n",
    "dst = cv2.remap(frame, map_x, map_y, cv2.INTER_LINEAR)\n",
    "blended = cv2.addWeighted(warped, 0.5, dst, 0.5, 0)\n",
    "cv2.imshow('blended.png', blended)\n",
    "cv2.waitKey()\n",
    "cv2.destroyAllWindows()"
   ]
  },
  {
   "cell_type": "code",
   "execution_count": 36,
   "metadata": {},
   "outputs": [],
   "source": [
    "fs_write = cv2.FileStorage('remap.yml', cv2.FILE_STORAGE_WRITE)\n",
    "\n",
    "fs_write.write(\"remap_ipm_x\", map_x)\n",
    "fs_write.write(\"remap_ipm_y\",map_y)\n",
    "fs_write.release()"
   ]
  },
  {
   "cell_type": "code",
   "execution_count": 37,
   "metadata": {},
   "outputs": [
    {
     "name": "stdout",
     "output_type": "stream",
     "text": [
      "./remap.yml\n"
     ]
    }
   ],
   "source": [
    "#ipm_remap_file_path ='./tusimple_ipm_remap.yml'\n",
    "ipm_remap_file_path ='./remap.yml'\n",
    "print (ipm_remap_file_path)"
   ]
  },
  {
   "cell_type": "code",
   "execution_count": 38,
   "metadata": {},
   "outputs": [],
   "source": [
    "_ipm_remap_file_path = ipm_remap_file_path"
   ]
  },
  {
   "cell_type": "code",
   "execution_count": 39,
   "metadata": {},
   "outputs": [
    {
     "name": "stdout",
     "output_type": "stream",
     "text": [
      "[[456.0653  455.8581  455.65085 ... 324.05872 323.85147 323.64426]\n",
      " [456.4784  456.27008 456.06177 ... 323.77527 323.56693 323.3586 ]\n",
      " [456.89587 456.68643 456.47702 ... 323.4888  323.27936 323.06995]\n",
      " ...\n",
      " [325.7143  325.8521  325.98993 ... 413.50253 413.64035 413.77814]\n",
      " [325.8954  326.0327  326.17007 ... 413.37827 413.5156  413.65292]\n",
      " [326.07523 326.2121  326.34897 ... 413.25485 413.3917  413.52856]]\n"
     ]
    }
   ],
   "source": [
    "\n",
    "fs = cv2.FileStorage(_ipm_remap_file_path, cv2.FILE_STORAGE_READ)\n",
    "\n",
    "remap_to_ipm_x = fs.getNode('remap_ipm_x').mat()\n",
    "remap_to_ipm_y = fs.getNode('remap_ipm_y').mat()\n",
    "\n",
    "print (remap_to_ipm_x)"
   ]
  },
  {
   "cell_type": "code",
   "execution_count": null,
   "metadata": {},
   "outputs": [],
   "source": []
  }
 ],
 "metadata": {
  "kernelspec": {
   "display_name": "Python 2",
   "language": "python",
   "name": "python2"
  },
  "language_info": {
   "codemirror_mode": {
    "name": "ipython",
    "version": 2
   },
   "file_extension": ".py",
   "mimetype": "text/x-python",
   "name": "python",
   "nbconvert_exporter": "python",
   "pygments_lexer": "ipython2",
   "version": "2.7.17"
  }
 },
 "nbformat": 4,
 "nbformat_minor": 2
}
