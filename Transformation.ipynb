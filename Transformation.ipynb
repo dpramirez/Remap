{
 "cells": [
  {
   "cell_type": "code",
   "execution_count": 5,
   "metadata": {},
   "outputs": [],
   "source": [
    "import cv2\n",
    "import numpy as np\n",
    "import yaml\n",
    "import matplotlib.pyplot as plt\n",
    "import numpy as np\n",
    "from sklearn.datasets.samples_generator import make_blobs\n",
    "from sklearn.neighbors import NearestNeighbors\n",
    "from sklearn.cluster import DBSCAN\n",
    "from matplotlib import pyplot as plt\n",
    "import seaborn as sns\n",
    "sns.set()"
   ]
  },
  {
   "cell_type": "code",
   "execution_count": 6,
   "metadata": {},
   "outputs": [
    {
     "name": "stdout",
     "output_type": "stream",
     "text": [
      "3\n"
     ]
    }
   ],
   "source": [
    "frame = cv2.imread(\"frame_0.png\", cv2.IMREAD_COLOR)\n",
    "frame_size = (frame.shape[1], frame.shape[0])\n",
    "#frame = cv2.resize(frame,(512,256), interpolation=cv2.INTER_LINEAR)\n",
    "#frame = frame/127.5 -1\n",
    "#cv2.imshow('blended.png', frame)\n",
    "#cv2.waitKey(0)\n",
    "print (len(frame.shape))"
   ]
  },
  {
   "cell_type": "code",
   "execution_count": 7,
   "metadata": {},
   "outputs": [],
   "source": [
    "#Coordinates of quadrangle vertices in the source image.\n",
    "src = np.float32([\n",
    "                [450,230],\n",
    "                [600,312],\n",
    "                [80,312],\n",
    "                [281,230]])\n",
    "\n",
    "#Coordinates of the corresponding quadrangle vertices in the destination image.\n",
    "dst = np.float32([\n",
    "        [450,230],\n",
    "        [450,312],\n",
    "        [281,312],\n",
    "        [281,230]])"
   ]
  },
  {
   "cell_type": "code",
   "execution_count": 8,
   "metadata": {},
   "outputs": [
    {
     "name": "stdout",
     "output_type": "stream",
     "text": [
      "[[-2.07231726e-01 -1.98289269e+00  4.56065319e+02]\n",
      " [-5.68434189e-16 -1.84486781e+00  3.76656299e+02]\n",
      " [-2.63805169e-18 -5.24883359e-03  1.00000000e+00]]\n"
     ]
    }
   ],
   "source": [
    "H = cv2.getPerspectiveTransform(src, dst)\n",
    "H_inv = cv2.getPerspectiveTransform(dst,src)\n",
    "warped = cv2.warpPerspective(frame, H, frame_size, flags=cv2.INTER_LINEAR)\n",
    "#cv2.imshow('blended.png', warped)\n",
    "#cv2.waitKey()\n",
    "#cv2.destroyAllWindows()\n",
    "print(H)\n",
    "#im1 = im1.save(\"geeks.jpg\")"
   ]
  },
  {
   "cell_type": "code",
   "execution_count": 9,
   "metadata": {},
   "outputs": [],
   "source": [
    "# create indices of the destination image and linearize them\n",
    "h, w = warped.shape[:2]\n",
    "indy, indx = np.indices((h, w), dtype=np.float32)\n",
    "lin_homg_ind = np.array([indx.ravel(), indy.ravel(), np.ones_like(indx).ravel()])"
   ]
  },
  {
   "cell_type": "code",
   "execution_count": 10,
   "metadata": {},
   "outputs": [],
   "source": [
    "map_ind = H_inv.dot(lin_homg_ind)\n",
    "map_x, map_y = map_ind[:-1]/map_ind[-1]\n",
    "map_x = map_x.reshape(h, w).astype(np.float32) \n",
    "map_y = map_y.reshape(h, w).astype(np.float32)"
   ]
  },
  {
   "cell_type": "code",
   "execution_count": 11,
   "metadata": {},
   "outputs": [],
   "source": [
    "# remap!\n",
    "dst = cv2.remap(warped, map_x, map_y, cv2.INTER_LINEAR)\n",
    "blended = cv2.addWeighted(frame, 0.5, dst, 0.5, 0)\n",
    "#cv2.imshow('blended.png', blended)\n",
    "#cv2.waitKey()\n",
    "#cv2.destroyAllWindows()"
   ]
  },
  {
   "cell_type": "code",
   "execution_count": 12,
   "metadata": {},
   "outputs": [],
   "source": [
    "fs_write = cv2.FileStorage('remap.yml', cv2.FILE_STORAGE_WRITE)\n",
    "\n",
    "fs_write.write(\"remap_ipm_x\", map_x)\n",
    "fs_write.write(\"remap_ipm_y\",map_y)\n",
    "fs_write.release()"
   ]
  },
  {
   "cell_type": "code",
   "execution_count": 13,
   "metadata": {},
   "outputs": [
    {
     "name": "stdout",
     "output_type": "stream",
     "text": [
      "./remap.yml\n"
     ]
    }
   ],
   "source": [
    "#ipm_remap_file_path ='./tusimple_ipm_remap.yml'\n",
    "ipm_remap_file_path ='./remap.yml'\n",
    "print (ipm_remap_file_path)"
   ]
  },
  {
   "cell_type": "code",
   "execution_count": 14,
   "metadata": {},
   "outputs": [],
   "source": [
    "_ipm_remap_file_path = ipm_remap_file_path"
   ]
  },
  {
   "cell_type": "code",
   "execution_count": 15,
   "metadata": {},
   "outputs": [],
   "source": [
    "fs = cv2.FileStorage(_ipm_remap_file_path, cv2.FILE_STORAGE_READ)\n",
    "\n",
    "remap_to_ipm_x = fs.getNode('remap_ipm_x').mat()\n",
    "remap_to_ipm_y = fs.getNode('remap_ipm_y').mat()\n",
    "\n"
   ]
  },
  {
   "cell_type": "code",
   "execution_count": null,
   "metadata": {},
   "outputs": [
    {
     "name": "stdout",
     "output_type": "stream",
     "text": [
      "(480, 640, 3)\n"
     ]
    }
   ],
   "source": [
    "image_1 = cv2.remap(\n",
    "                frame,\n",
    "                remap_to_ipm_x,\n",
    "                remap_to_ipm_y,\n",
    "                interpolation=cv2.INTER_NEAREST)\n",
    "print (image_1.shape)\n",
    "cv2.imshow('blended.png', image_1)\n",
    "cv2.waitKey(0)"
   ]
  },
  {
   "cell_type": "code",
   "execution_count": null,
   "metadata": {},
   "outputs": [],
   "source": []
  }
 ],
 "metadata": {
  "kernelspec": {
   "display_name": "Python 2",
   "language": "python",
   "name": "python2"
  },
  "language_info": {
   "codemirror_mode": {
    "name": "ipython",
    "version": 2
   },
   "file_extension": ".py",
   "mimetype": "text/x-python",
   "name": "python",
   "nbconvert_exporter": "python",
   "pygments_lexer": "ipython2",
   "version": "2.7.17"
  }
 },
 "nbformat": 4,
 "nbformat_minor": 2
}
