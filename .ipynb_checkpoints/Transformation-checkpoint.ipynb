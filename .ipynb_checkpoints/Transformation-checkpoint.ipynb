{
 "cells": [
  {
   "cell_type": "code",
   "execution_count": 1,
   "metadata": {},
   "outputs": [],
   "source": [
    "import cv2\n",
    "import numpy as np\n",
    "import yaml"
   ]
  },
  {
   "cell_type": "code",
   "execution_count": 25,
   "metadata": {},
   "outputs": [
    {
     "name": "stdout",
     "output_type": "stream",
     "text": [
      "640\n"
     ]
    }
   ],
   "source": [
    "frame = cv2.imread(\"frame_0.png\", cv2.IMREAD_COLOR)\n",
    "frame_size = (frame.shape[1], frame.shape[0])\n"
   ]
  },
  {
   "cell_type": "code",
   "execution_count": 3,
   "metadata": {},
   "outputs": [],
   "source": [
    "#Coordinates of quadrangle vertices in the source image.\n",
    "src = np.float32([\n",
    "                [450,230],\n",
    "                [600,312],\n",
    "                [80,312],\n",
    "                [281,230]])\n",
    "\n",
    "#Coordinates of the corresponding quadrangle vertices in the destination image.\n",
    "dst = np.float32([\n",
    "        [450,230],\n",
    "        [450,312],\n",
    "        [281,312],\n",
    "        [281,230]])"
   ]
  },
  {
   "cell_type": "code",
   "execution_count": 4,
   "metadata": {},
   "outputs": [],
   "source": [
    "H = cv2.getPerspectiveTransform(src, dst)\n",
    "warped = cv2.warpPerspective(frame, H, frame_size, flags=cv2.INTER_LINEAR)"
   ]
  },
  {
   "cell_type": "code",
   "execution_count": 5,
   "metadata": {},
   "outputs": [],
   "source": [
    "# create indices of the destination image and linearize them\n",
    "h, w = warped.shape[:2]\n",
    "indy, indx = np.indices((h, w), dtype=np.float32)\n",
    "lin_homg_ind = np.array([indx.ravel(), indy.ravel(), np.ones_like(indx).ravel()])"
   ]
  },
  {
   "cell_type": "code",
   "execution_count": 18,
   "metadata": {},
   "outputs": [
    {
     "name": "stdout",
     "output_type": "stream",
     "text": [
      "(307200,)\n"
     ]
    }
   ],
   "source": [
    "map_ind = H.dot(lin_homg_ind)\n",
    "map_x, map_y = map_ind[:-1]/map_ind[-1]\n",
    "#map_x = map_x.reshape(h, w).astype(np.float32)\n",
    "#map_y = map_y.reshape(h, w).astype(np.float32)\n",
    "#print (map_x)"
   ]
  },
  {
   "cell_type": "code",
   "execution_count": null,
   "metadata": {},
   "outputs": [],
   "source": [
    "# remap!\n",
    "dst = cv2.remap(frame, map_x, map_y, cv2.INTER_LINEAR)\n",
    "blended = cv2.addWeighted(warped, 0.5, dst, 0.5, 0)\n",
    "cv2.imshow('blended.png', blended)\n",
    "cv2.waitKey()\n",
    "cv2.destroyAllWindows()"
   ]
  },
  {
   "cell_type": "code",
   "execution_count": 27,
   "metadata": {},
   "outputs": [],
   "source": [
    "fname = \"remap.yaml\"\n",
    "data = {\"remap_ipm_x\":{\"rows\":frame.shape[1],\"cols\":frame.shape[0],\"data\":map_x.tolist()},\"remap_ipm_y\":{\"rows\":frame.shape[1],\"cols\":frame.shape[0],\"data\":map_y.tolist()}}\n",
    "\n",
    "with open(fname, \"w\") as f:\n",
    "    yaml.dump(data, f)"
   ]
  },
  {
   "cell_type": "code",
   "execution_count": null,
   "metadata": {},
   "outputs": [],
   "source": []
  }
 ],
 "metadata": {
  "kernelspec": {
   "display_name": "Python 2",
   "language": "python",
   "name": "python2"
  },
  "language_info": {
   "codemirror_mode": {
    "name": "ipython",
    "version": 2
   },
   "file_extension": ".py",
   "mimetype": "text/x-python",
   "name": "python",
   "nbconvert_exporter": "python",
   "pygments_lexer": "ipython2",
   "version": "2.7.17"
  }
 },
 "nbformat": 4,
 "nbformat_minor": 2
}
